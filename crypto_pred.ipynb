{
 "cells": [
  {
   "cell_type": "code",
   "execution_count": 18,
   "metadata": {},
   "outputs": [],
   "source": [
    "import numpy as np\n",
    "import pandas as pd\n",
    "import matplotlib.pyplot as plt\n",
    "\n",
    "bitcoin = pd.read_csv('Bitcoin2.csv', sep=';')\n",
    "bitcoin = bitcoin.iloc[::-1].reset_index(drop=True)"
   ]
  },
  {
   "cell_type": "code",
   "execution_count": 19,
   "metadata": {},
   "outputs": [],
   "source": [
    "diff_bitcoin = np.diff(bitcoin['close'].values, n=1)\n",
    "df_diff = pd.DataFrame({'diff_bitcoin': diff_bitcoin})"
   ]
  },
  {
   "cell_type": "code",
   "execution_count": 22,
   "metadata": {},
   "outputs": [],
   "source": [
    "from statsmodels.tsa.statespace.sarimax import SARIMAX\n",
    "\n",
    "def rolling_forecast(df: pd.DataFrame, train_len: int, horizon: int, window: int, method: str) -> list:\n",
    "    total_len = train_len + horizon\n",
    "    end_idx = train_len\n",
    "    if method == 'mean':\n",
    "        pred_mean = []\n",
    "        for i in range(train_len, total_len, window):\n",
    "            mean = np.mean(df[:i].values)\n",
    "            pred_mean.extend(mean for _ in range(window))\n",
    "        return pred_mean\n",
    "    elif method == 'last':\n",
    "        pred_last_value = []\n",
    "        for i in range(train_len, total_len, window):\n",
    "            last_value = df[:i].iloc[-1].values[0]\n",
    "            pred_last_value.extend(last_value for _ in range(window))\n",
    "        return pred_last_value\n",
    "    elif method == 'ARMA':\n",
    "        pred_ARMA = []\n",
    "        for i in range(train_len, total_len, window):\n",
    "            model = SARIMAX(df[:i], order=(2,0,5))\n",
    "            res = model.fit(disp=False)\n",
    "            predictions = res.get_prediction(0, i + window - 1)\n",
    "            oos_pred = predictions.predicted_mean.iloc[-window:]\n",
    "            pred_ARMA.extend(oos_pred)\n",
    "        return pred_ARMA"
   ]
  },
  {
   "cell_type": "code",
   "execution_count": 23,
   "metadata": {},
   "outputs": [],
   "source": [
    "TRAIN_LEN = len(df_diff)\n",
    "HORIZON = 5\n",
    "WINDOW = 5\n",
    "\n",
    "pred_mean = rolling_forecast(df_diff, TRAIN_LEN, HORIZON, WINDOW, 'mean')\n",
    "pred_last_value = rolling_forecast(df_diff, TRAIN_LEN, HORIZON, WINDOW, 'last')\n",
    "pred_ARMA = rolling_forecast(df_diff, TRAIN_LEN, HORIZON, WINDOW, 'ARMA')"
   ]
  },
  {
   "cell_type": "code",
   "execution_count": 24,
   "metadata": {},
   "outputs": [
    {
     "name": "stdout",
     "output_type": "stream",
     "text": [
      "Current Price ($) =  64031.1328085695\n"
     ]
    },
    {
     "data": {
      "text/plain": [
       "0    65328.159357\n",
       "1    65140.120333\n",
       "2    64098.491768\n",
       "3    64643.794719\n",
       "4    65496.788475\n",
       "Name: pred_ARMA, dtype: float64"
      ]
     },
     "execution_count": 24,
     "metadata": {},
     "output_type": "execute_result"
    }
   ],
   "source": [
    "df_pred = pd.DataFrame({'pred_ARMA': pred_ARMA})\n",
    "print('Current Price ($) = ', bitcoin['close'].iloc[363])\n",
    "bitcoin['close'].iloc[363] + df_pred['pred_ARMA'].cumsum()"
   ]
  }
 ],
 "metadata": {
  "kernelspec": {
   "display_name": "Python 3",
   "language": "python",
   "name": "python3"
  },
  "language_info": {
   "codemirror_mode": {
    "name": "ipython",
    "version": 3
   },
   "file_extension": ".py",
   "mimetype": "text/x-python",
   "name": "python",
   "nbconvert_exporter": "python",
   "pygments_lexer": "ipython3",
   "version": "3.11.5"
  }
 },
 "nbformat": 4,
 "nbformat_minor": 2
}
