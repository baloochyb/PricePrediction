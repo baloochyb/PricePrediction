{
 "cells": [
  {
   "cell_type": "code",
   "execution_count": 1,
   "metadata": {},
   "outputs": [
    {
     "name": "stdout",
     "output_type": "stream",
     "text": [
      "                                                title            created_at  \\\n",
      "0   Cardano to Step Up Ethereum Rivalry With Layer...  2024-10-12T09:21:00Z   \n",
      "1   Trader Sees Bullish Reversal Pattern for BTC, ...  2024-10-12T09:15:47Z   \n",
      "2   USI-Tech Ex CEO Flees On Tampering with His An...  2024-10-12T09:15:16Z   \n",
      "3   Bitcoin Price Rockets to $63K but This Viral M...  2024-10-12T09:01:22Z   \n",
      "4   Worldcoin and Dune Analytics Join Forces to Tr...  2024-10-12T09:00:56Z   \n",
      "5   What kind of Treasury Secretary would Jamie Di...  2024-10-12T08:58:24Z   \n",
      "6   Cryptocurrency Adoption Surges in Latin Americ...  2024-10-12T08:51:12Z   \n",
      "7   Binance’s Former CEO CZ Issues Warning on Deep...  2024-10-12T08:40:00Z   \n",
      "8   Future of E-Commerce in the Metaverse: A Block...  2024-10-12T08:30:10Z   \n",
      "9   INSANE NEWS: This Will OFFICIALLY Change Bitco...  2024-10-12T08:30:08Z   \n",
      "10  Ripple CEO Brad Garlinghouse Criticizes SEC Fo...  2024-10-12T08:14:04Z   \n",
      "11  Bitcoin Bounce Back: Will It Break $63K Level ...  2024-10-12T08:04:50Z   \n",
      "12      Changpeng Zhao Issues Warning on Crypto Scams  2024-10-12T08:00:44Z   \n",
      "13  Calculating the odds of AVAX’s next breakout o...  2024-10-12T08:00:04Z   \n",
      "14  Biggest Altcoin Gainers of the Second Week of ...  2024-10-12T08:00:00Z   \n",
      "15  Crucial Warning About Crypto Deepfakes Comes F...  2024-10-12T07:59:00Z   \n",
      "16  Cboe Ethereum ETF Options Continue to Be Delay...  2024-10-12T07:49:19Z   \n",
      "17      Mt Gox Creditor Repayments Delayed Until 2025  2024-10-12T07:45:00Z   \n",
      "18  #Bitcoin It is weekend again so you know what ...  2024-10-12T07:13:04Z   \n",
      "19  Crypto Analyst Issues Ethereum Alert, Predicts...  2024-10-12T07:04:26Z   \n",
      "\n",
      "                                                  url  \n",
      "0   https://cryptopanic.com/news/19996638/Cardano-...  \n",
      "1   https://cryptopanic.com/news/19996632/Trader-S...  \n",
      "2   https://cryptopanic.com/news/19996634/USI-Tech...  \n",
      "3   https://cryptopanic.com/news/19996598/Bitcoin-...  \n",
      "4   https://cryptopanic.com/news/19996605/Worldcoi...  \n",
      "5   https://cryptopanic.com/news/19996596/What-kin...  \n",
      "6   https://cryptopanic.com/news/19996588/Cryptocu...  \n",
      "7   https://cryptopanic.com/news/19996574/Binances...  \n",
      "8   https://cryptopanic.com/news/19996565/Future-o...  \n",
      "9   https://cryptopanic.com/news/19996570/INSANE-N...  \n",
      "10  https://cryptopanic.com/news/19996539/Ripple-C...  \n",
      "11  https://cryptopanic.com/news/19996532/Bitcoin-...  \n",
      "12  https://cryptopanic.com/news/19996517/Changpen...  \n",
      "13  https://cryptopanic.com/news/19996514/Calculat...  \n",
      "14  https://cryptopanic.com/news/19996559/Biggest-...  \n",
      "15  https://cryptopanic.com/news/19996516/Crucial-...  \n",
      "16  https://cryptopanic.com/news/19996504/Cboe-Eth...  \n",
      "17  https://cryptopanic.com/news/19996491/Mt-Gox-C...  \n",
      "18  https://cryptopanic.com/news/19996468/Bitcoin-...  \n",
      "19  https://cryptopanic.com/news/19996461/Crypto-A...  \n"
     ]
    }
   ],
   "source": [
    "import requests  \n",
    "import pandas as pd  \n",
    "\n",
    "# Define the API endpoint  \n",
    "url = \"https://cryptopanic.com/api/v1/posts/\"  \n",
    "\n",
    "# Set your API key (you can get it by signing up on CryptoPanic)  \n",
    "api_key = \"49ea103543c31ae0c82f858c7f6da9f0d6c7cb71\"  \n",
    "\n",
    "# Define parameters for the API request  \n",
    "params = {  \n",
    "    'auth_token': api_key,  \n",
    "    'public': 1,  # Fetch only public posts  \n",
    "    'filter': 'news',  # Filter for news posts  \n",
    "    'page': 1,  # Page number  \n",
    "}  \n",
    "\n",
    "# Make the request to the CryptoPanic API  \n",
    "response = requests.get(url, params=params)  \n",
    "\n",
    "# Check if the request was successful  \n",
    "if response.status_code == 200:  \n",
    "    data = response.json()  \n",
    "    posts = data['results']  \n",
    "    \n",
    "    # Convert the posts into a DataFrame for easier handling  \n",
    "    df = pd.DataFrame(posts)  \n",
    "    \n",
    "    # Display the DataFrame  \n",
    "    print(df[['title', 'created_at', 'url']])  \n",
    "else:  \n",
    "    print(f\"Error: {response.status_code}\")"
   ]
  }
 ],
 "metadata": {
  "kernelspec": {
   "display_name": "Python 3",
   "language": "python",
   "name": "python3"
  },
  "language_info": {
   "codemirror_mode": {
    "name": "ipython",
    "version": 3
   },
   "file_extension": ".py",
   "mimetype": "text/x-python",
   "name": "python",
   "nbconvert_exporter": "python",
   "pygments_lexer": "ipython3",
   "version": "3.12.6"
  }
 },
 "nbformat": 4,
 "nbformat_minor": 2
}
